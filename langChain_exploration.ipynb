{
 "cells": [
  {
   "cell_type": "code",
   "execution_count": 20,
   "id": "eb702c66",
   "metadata": {},
   "outputs": [],
   "source": [
    "\n",
    "from langchain_core.prompts import PromptTemplate\n",
    "# Use ChatOpenAI for chat models like gpt-4\n",
    "from langchain_openai import ChatOpenAI\n",
    "from langchain_core.output_parsers import StrOutputParser"
   ]
  },
  {
   "cell_type": "code",
   "execution_count": 3,
   "id": "116fc205",
   "metadata": {},
   "outputs": [
    {
     "data": {
      "text/plain": [
       "True"
      ]
     },
     "execution_count": 3,
     "metadata": {},
     "output_type": "execute_result"
    }
   ],
   "source": [
    "from dotenv import load_dotenv\n",
    "load_dotenv()"
   ]
  },
  {
   "cell_type": "code",
   "execution_count": 21,
   "id": "7e32a03d",
   "metadata": {},
   "outputs": [],
   "source": [
    "\n",
    "\n",
    "llm = ChatOpenAI(model=\"gpt-4\", temperature=0.0)\n",
    "parser = StrOutputParser()"
   ]
  },
  {
   "cell_type": "code",
   "execution_count": null,
   "id": "5206dfd9",
   "metadata": {},
   "outputs": [],
   "source": []
  },
  {
   "cell_type": "code",
   "execution_count": 22,
   "id": "5c380102",
   "metadata": {},
   "outputs": [],
   "source": [
    "# Define a prompt template with dynamic input\n",
    "prompt = PromptTemplate(\n",
    "    input_variables=[\"topic\"],\n",
    "    template=\"\"\"Write a 50 words summary about {topic}.\"\"\"\n",
    ")\n",
    "\n",
    "# Standard output parser\n",
    "parser = StrOutputParser()"
   ]
  },
  {
   "cell_type": "code",
   "execution_count": 26,
   "id": "2c54b57f",
   "metadata": {},
   "outputs": [
    {
     "name": "stdout",
     "output_type": "stream",
     "text": [
      "{'Goals': {'1': 'The human wants to improve their productivity.', '2': 'The human aims to set better daily routines.'}, 'Follow-Up Opportunities': {'1': 'What specific routines are you looking to improve or establish?', '2': 'What strategies or tools have you considered to help improve your productivity?'}}\n"
     ]
    }
   ],
   "source": [
    "import json\n",
    "from prompts import SUMMARIZE_CHAT_HISTORY_PROMPT\n",
    "from langchain_core.prompts import PromptTemplate\n",
    "from langchain_core.output_parsers import JsonOutputParser\n",
    "\n",
    "# Example chat_history variable (replace with your actual data)\n",
    "chat_history = [\n",
    "    {\"role\": \"user\", \"content\": \"I want to improve my productivity.\"},\n",
    "    {\"role\": \"assistant\", \"content\": \"Great! What are your main goals?\"},\n",
    "    {\"role\": \"user\", \"content\": \"I want to set better daily routines.\"}\n",
    "]\n",
    "\n",
    "prompt = PromptTemplate(\n",
    "    input_variables=[\"chat_history\"],\n",
    "    template=SUMMARIZE_CHAT_HISTORY_PROMPT\n",
    ")\n",
    "\n",
    "parser = JsonOutputParser()\n",
    "\n",
    "chain = prompt | llm | parser\n",
    "\n",
    "result = chain.invoke({\"chat_history\": json.dumps(chat_history, indent=2)})\n",
    "print(result)"
   ]
  },
  {
   "cell_type": "code",
   "execution_count": 27,
   "id": "9496b93f",
   "metadata": {},
   "outputs": [
    {
     "data": {
      "text/plain": [
       "{'Goals': {'1': 'The human wants to improve their productivity.',\n",
       "  '2': 'The human aims to set better daily routines.'},\n",
       " 'Follow-Up Opportunities': {'1': 'What specific routines are you looking to improve or establish?',\n",
       "  '2': 'What strategies or tools have you considered to help improve your productivity?'}}"
      ]
     },
     "execution_count": 27,
     "metadata": {},
     "output_type": "execute_result"
    }
   ],
   "source": [
    "result"
   ]
  },
  {
   "cell_type": "code",
   "execution_count": null,
   "id": "116741c9",
   "metadata": {},
   "outputs": [],
   "source": []
  },
  {
   "cell_type": "code",
   "execution_count": null,
   "id": "f71050ef",
   "metadata": {},
   "outputs": [],
   "source": []
  },
  {
   "cell_type": "code",
   "execution_count": null,
   "id": "8cbb47cf",
   "metadata": {},
   "outputs": [],
   "source": []
  },
  {
   "cell_type": "code",
   "execution_count": null,
   "id": "ba1949ac",
   "metadata": {},
   "outputs": [],
   "source": []
  },
  {
   "cell_type": "code",
   "execution_count": null,
   "id": "603e9797",
   "metadata": {},
   "outputs": [],
   "source": []
  },
  {
   "cell_type": "code",
   "execution_count": null,
   "id": "303abe12",
   "metadata": {},
   "outputs": [],
   "source": []
  },
  {
   "cell_type": "code",
   "execution_count": null,
   "id": "93b988fc",
   "metadata": {},
   "outputs": [],
   "source": []
  },
  {
   "cell_type": "code",
   "execution_count": null,
   "id": "defe9b28",
   "metadata": {},
   "outputs": [],
   "source": []
  }
 ],
 "metadata": {
  "kernelspec": {
   "display_name": ".venv",
   "language": "python",
   "name": "python3"
  },
  "language_info": {
   "codemirror_mode": {
    "name": "ipython",
    "version": 3
   },
   "file_extension": ".py",
   "mimetype": "text/x-python",
   "name": "python",
   "nbconvert_exporter": "python",
   "pygments_lexer": "ipython3",
   "version": "3.12.5"
  }
 },
 "nbformat": 4,
 "nbformat_minor": 5
}
